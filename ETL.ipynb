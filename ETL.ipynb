{
 "cells": [
  {
   "cell_type": "markdown",
   "metadata": {},
   "source": [
    "<h1>ETL</h1>"
   ]
  },
  {
   "cell_type": "code",
   "execution_count": 123,
   "metadata": {},
   "outputs": [],
   "source": [
    "# importando as bibliotecas usadas no projeto\n",
    "\n",
    "import pandas as pd\n",
    "import requests \n",
    "from plyer import notification\n",
    "from pandas import json_normalize\n",
    "import sqlite3\n"
   ]
  },
  {
   "cell_type": "code",
   "execution_count": 124,
   "metadata": {},
   "outputs": [],
   "source": [
    "\n",
    "def get_data(url):\n",
    "\n",
    "    '''\n",
    "    Faz a requisição à API. Se o status code for 200, retorna um DataFrame pandas.\n",
    "    Se não, dispara uma notificação de erro e retorna None.\n",
    "    \n",
    "    Parâmetros:\n",
    "      - url (str): A URL da API.\n",
    "      \n",
    "    Retorna:\n",
    "      - DataFrame pandas ou None em caso de erro.\n",
    "    '''\n",
    "    \n",
    "    response = requests.get(url)\n",
    "\n",
    "    if response.status_code == 200:\n",
    "        data_json = response.json()\n",
    "        data = pd.DataFrame(data_json)\n",
    "        return data\n",
    "    \n",
    "    else:\n",
    "       \n",
    "        notification_title = \"Erro na solicitação da API\"\n",
    "        notification_text = f\"O request retornou o status {response.status_code}. Verifique a URL.\"\n",
    "        \n",
    "        notification.notify(\n",
    "            title=notification_title,\n",
    "            message=notification_text,\n",
    "        )\n",
    "        return None \n"
   ]
  },
  {
   "cell_type": "code",
   "execution_count": 125,
   "metadata": {},
   "outputs": [],
   "source": [
    "# informações dos paises com a api restcountries já pegando as colunas nos endpoints\n",
    "\n",
    "countries_df1 = get_data(\"https://restcountries.com/v3.1/all?fields=name,capital,region,population\")\n",
    "countries_df2 = get_data(\"https://restcountries.com/v3.1/all?fields=name,subregion,continents\")\n",
    "countries_df3 = get_data(\"https://restcountries.com/v3.1/all?fields=name,timezones,startOfWeek\")\n"
   ]
  },
  {
   "cell_type": "code",
   "execution_count": 126,
   "metadata": {},
   "outputs": [],
   "source": [
    "def normalize_columns(dataframe,columns_data):\n",
    "\n",
    "    '''\n",
    "    Normaliza as colunas especificadas em um DataFrame.\n",
    "\n",
    "    Parâmetros:\n",
    "      - dataframe: DataFrame pandas\n",
    "      - columns_data: Lista de nomes de colunas a serem normalizadas\n",
    "\n",
    "    Retorna:\n",
    "      - DataFrame normalizado\n",
    "\n",
    "    '''\n",
    "    \n",
    "    for coluna in columns_data:\n",
    "        dataframe = pd.concat([dataframe, json_normalize(dataframe[coluna])], axis=1)\n",
    "\n",
    "   \n",
    "    return dataframe"
   ]
  },
  {
   "cell_type": "code",
   "execution_count": 127,
   "metadata": {},
   "outputs": [],
   "source": [
    "\n",
    "#aplica a função normalize_columns ao dataframe e seleciona as colunas de interece.\n",
    "  \n",
    "countries_df1 = normalize_columns(countries_df1, ['name']).loc[:,['common','region','population']]"
   ]
  },
  {
   "cell_type": "code",
   "execution_count": 128,
   "metadata": {},
   "outputs": [],
   "source": [
    "#aplica a função normalize_columns ao dataframe e seleciona as colunas de interece.\n",
    "\n",
    "countries_df2 = normalize_columns(countries_df2, ['name']).loc[:,['common','continents','subregion']]"
   ]
  },
  {
   "cell_type": "code",
   "execution_count": 129,
   "metadata": {},
   "outputs": [],
   "source": [
    "#aplica a função normalize_columns ao dataframe e seleciona as colunas de interece.\n",
    "\n",
    "countries_df3 = normalize_columns(countries_df3, ['name']).loc[:,['common','timezones','startOfWeek']]"
   ]
  },
  {
   "cell_type": "code",
   "execution_count": 130,
   "metadata": {},
   "outputs": [],
   "source": [
    "#faz a junção dos dataframes em um unico dataframe.\n",
    "\n",
    "countries = pd.merge(pd.merge(countries_df1, countries_df2, on='common'), countries_df3, on='common')\n"
   ]
  },
  {
   "cell_type": "code",
   "execution_count": 131,
   "metadata": {},
   "outputs": [],
   "source": [
    "# faz a mudança de nome das colunas do dataframe.\n",
    "\n",
    "new_columns_name = {'common': 'Pais','region':'Região','population':'População','continents':'Continentes','subregion':'Subregião',\n",
    "                    'timezones':'Zonas Horarias','startOfWeek':'Primeiro dia da semana'}\n",
    "\n",
    "countries.rename(columns=new_columns_name, inplace=True)\n"
   ]
  },
  {
   "cell_type": "code",
   "execution_count": 132,
   "metadata": {},
   "outputs": [],
   "source": [
    "columns = ['Continentes', 'Zonas Horarias']\n",
    "\n",
    "# Itera sobre cada coluna a ser processada\n",
    "\n",
    "for coluna in columns:\n",
    "    \n",
    "    # Aplica uma função lambda para extrair colchetes\n",
    "\n",
    "    countries[coluna] = countries[coluna].apply(lambda x: x[0] if isinstance(x, list) else x)\n"
   ]
  },
  {
   "cell_type": "code",
   "execution_count": 133,
   "metadata": {},
   "outputs": [],
   "source": [
    "# cria a conexão com o banco de dados.\n",
    "\n",
    "conn =sqlite3.connect('coutries.db')\n",
    "\n",
    "countries.to_sql('countries',conn, index=False,if_exists='replace')\n",
    "\n",
    "conn.close()"
   ]
  },
  {
   "cell_type": "code",
   "execution_count": 134,
   "metadata": {},
   "outputs": [],
   "source": [
    "countries = pd.DataFrame(countries)"
   ]
  },
  {
   "cell_type": "code",
   "execution_count": 135,
   "metadata": {},
   "outputs": [
    {
     "data": {
      "text/html": [
       "<div>\n",
       "<style scoped>\n",
       "    .dataframe tbody tr th:only-of-type {\n",
       "        vertical-align: middle;\n",
       "    }\n",
       "\n",
       "    .dataframe tbody tr th {\n",
       "        vertical-align: top;\n",
       "    }\n",
       "\n",
       "    .dataframe thead th {\n",
       "        text-align: right;\n",
       "    }\n",
       "</style>\n",
       "<table border=\"1\" class=\"dataframe\">\n",
       "  <thead>\n",
       "    <tr style=\"text-align: right;\">\n",
       "      <th></th>\n",
       "      <th>Pais</th>\n",
       "      <th>Região</th>\n",
       "      <th>População</th>\n",
       "      <th>Continentes</th>\n",
       "      <th>Subregião</th>\n",
       "      <th>Zonas Horarias</th>\n",
       "      <th>Primeiro dia da semana</th>\n",
       "    </tr>\n",
       "  </thead>\n",
       "  <tbody>\n",
       "    <tr>\n",
       "      <th>0</th>\n",
       "      <td>Christmas Island</td>\n",
       "      <td>Oceania</td>\n",
       "      <td>2072</td>\n",
       "      <td>Asia</td>\n",
       "      <td>Australia and New Zealand</td>\n",
       "      <td>UTC+07:00</td>\n",
       "      <td>monday</td>\n",
       "    </tr>\n",
       "    <tr>\n",
       "      <th>1</th>\n",
       "      <td>Eritrea</td>\n",
       "      <td>Africa</td>\n",
       "      <td>5352000</td>\n",
       "      <td>Africa</td>\n",
       "      <td>Eastern Africa</td>\n",
       "      <td>UTC+03:00</td>\n",
       "      <td>monday</td>\n",
       "    </tr>\n",
       "    <tr>\n",
       "      <th>2</th>\n",
       "      <td>Samoa</td>\n",
       "      <td>Oceania</td>\n",
       "      <td>198410</td>\n",
       "      <td>Oceania</td>\n",
       "      <td>Polynesia</td>\n",
       "      <td>UTC+13:00</td>\n",
       "      <td>monday</td>\n",
       "    </tr>\n",
       "    <tr>\n",
       "      <th>3</th>\n",
       "      <td>North Macedonia</td>\n",
       "      <td>Europe</td>\n",
       "      <td>2077132</td>\n",
       "      <td>Europe</td>\n",
       "      <td>Southeast Europe</td>\n",
       "      <td>UTC+01:00</td>\n",
       "      <td>monday</td>\n",
       "    </tr>\n",
       "    <tr>\n",
       "      <th>4</th>\n",
       "      <td>Djibouti</td>\n",
       "      <td>Africa</td>\n",
       "      <td>988002</td>\n",
       "      <td>Africa</td>\n",
       "      <td>Eastern Africa</td>\n",
       "      <td>UTC+03:00</td>\n",
       "      <td>monday</td>\n",
       "    </tr>\n",
       "    <tr>\n",
       "      <th>...</th>\n",
       "      <td>...</td>\n",
       "      <td>...</td>\n",
       "      <td>...</td>\n",
       "      <td>...</td>\n",
       "      <td>...</td>\n",
       "      <td>...</td>\n",
       "      <td>...</td>\n",
       "    </tr>\n",
       "    <tr>\n",
       "      <th>245</th>\n",
       "      <td>Azerbaijan</td>\n",
       "      <td>Asia</td>\n",
       "      <td>10110116</td>\n",
       "      <td>Europe</td>\n",
       "      <td>Western Asia</td>\n",
       "      <td>UTC+04:00</td>\n",
       "      <td>monday</td>\n",
       "    </tr>\n",
       "    <tr>\n",
       "      <th>246</th>\n",
       "      <td>Timor-Leste</td>\n",
       "      <td>Asia</td>\n",
       "      <td>1318442</td>\n",
       "      <td>Oceania</td>\n",
       "      <td>South-Eastern Asia</td>\n",
       "      <td>UTC+09:00</td>\n",
       "      <td>monday</td>\n",
       "    </tr>\n",
       "    <tr>\n",
       "      <th>247</th>\n",
       "      <td>Iran</td>\n",
       "      <td>Asia</td>\n",
       "      <td>83992953</td>\n",
       "      <td>Asia</td>\n",
       "      <td>Southern Asia</td>\n",
       "      <td>UTC+03:30</td>\n",
       "      <td>saturday</td>\n",
       "    </tr>\n",
       "    <tr>\n",
       "      <th>248</th>\n",
       "      <td>Croatia</td>\n",
       "      <td>Europe</td>\n",
       "      <td>4047200</td>\n",
       "      <td>Europe</td>\n",
       "      <td>Southeast Europe</td>\n",
       "      <td>UTC+01:00</td>\n",
       "      <td>monday</td>\n",
       "    </tr>\n",
       "    <tr>\n",
       "      <th>249</th>\n",
       "      <td>Ivory Coast</td>\n",
       "      <td>Africa</td>\n",
       "      <td>26378275</td>\n",
       "      <td>Africa</td>\n",
       "      <td>Western Africa</td>\n",
       "      <td>UTC</td>\n",
       "      <td>monday</td>\n",
       "    </tr>\n",
       "  </tbody>\n",
       "</table>\n",
       "<p>250 rows × 7 columns</p>\n",
       "</div>"
      ],
      "text/plain": [
       "                 Pais   Região  População Continentes  \\\n",
       "0    Christmas Island  Oceania       2072        Asia   \n",
       "1             Eritrea   Africa    5352000      Africa   \n",
       "2               Samoa  Oceania     198410     Oceania   \n",
       "3     North Macedonia   Europe    2077132      Europe   \n",
       "4            Djibouti   Africa     988002      Africa   \n",
       "..                ...      ...        ...         ...   \n",
       "245        Azerbaijan     Asia   10110116      Europe   \n",
       "246       Timor-Leste     Asia    1318442     Oceania   \n",
       "247              Iran     Asia   83992953        Asia   \n",
       "248           Croatia   Europe    4047200      Europe   \n",
       "249       Ivory Coast   Africa   26378275      Africa   \n",
       "\n",
       "                     Subregião Zonas Horarias Primeiro dia da semana  \n",
       "0    Australia and New Zealand      UTC+07:00                 monday  \n",
       "1               Eastern Africa      UTC+03:00                 monday  \n",
       "2                    Polynesia      UTC+13:00                 monday  \n",
       "3             Southeast Europe      UTC+01:00                 monday  \n",
       "4               Eastern Africa      UTC+03:00                 monday  \n",
       "..                         ...            ...                    ...  \n",
       "245               Western Asia      UTC+04:00                 monday  \n",
       "246         South-Eastern Asia      UTC+09:00                 monday  \n",
       "247              Southern Asia      UTC+03:30               saturday  \n",
       "248           Southeast Europe      UTC+01:00                 monday  \n",
       "249             Western Africa            UTC                 monday  \n",
       "\n",
       "[250 rows x 7 columns]"
      ]
     },
     "execution_count": 135,
     "metadata": {},
     "output_type": "execute_result"
    }
   ],
   "source": [
    "countries"
   ]
  },
  {
   "cell_type": "code",
   "execution_count": 136,
   "metadata": {},
   "outputs": [
    {
     "data": {
      "text/plain": [
       "0    Pais                               Christmas Island\n",
       "     Região                                      Oceania\n",
       "     População                                      2072\n",
       "     Continentes                                    Asia\n",
       "     Subregião                 Australia and New Zealand\n",
       "                                         ...            \n",
       "249  População                                  26378275\n",
       "     Continentes                                  Africa\n",
       "     Subregião                            Western Africa\n",
       "     Zonas Horarias                                  UTC\n",
       "     Primeiro dia da semana                       monday\n",
       "Length: 1750, dtype: object"
      ]
     },
     "execution_count": 136,
     "metadata": {},
     "output_type": "execute_result"
    }
   ],
   "source": [
    "countries.stack()"
   ]
  },
  {
   "cell_type": "code",
   "execution_count": 137,
   "metadata": {},
   "outputs": [
    {
     "data": {
      "text/plain": [
       "(250, 7)"
      ]
     },
     "execution_count": 137,
     "metadata": {},
     "output_type": "execute_result"
    }
   ],
   "source": [
    "countries.shape"
   ]
  },
  {
   "cell_type": "code",
   "execution_count": 138,
   "metadata": {},
   "outputs": [
    {
     "data": {
      "text/plain": [
       "Pais                      250\n",
       "Região                      6\n",
       "População                 248\n",
       "Continentes                 7\n",
       "Subregião                  25\n",
       "Zonas Horarias             31\n",
       "Primeiro dia da semana      3\n",
       "dtype: int64"
      ]
     },
     "execution_count": 138,
     "metadata": {},
     "output_type": "execute_result"
    }
   ],
   "source": [
    "countries.nunique()"
   ]
  },
  {
   "cell_type": "code",
   "execution_count": 139,
   "metadata": {},
   "outputs": [
    {
     "data": {
      "text/plain": [
       "Pais                      0\n",
       "Região                    0\n",
       "População                 0\n",
       "Continentes               0\n",
       "Subregião                 0\n",
       "Zonas Horarias            0\n",
       "Primeiro dia da semana    0\n",
       "dtype: int64"
      ]
     },
     "execution_count": 139,
     "metadata": {},
     "output_type": "execute_result"
    }
   ],
   "source": [
    "countries.isnull().sum()"
   ]
  },
  {
   "cell_type": "code",
   "execution_count": null,
   "metadata": {},
   "outputs": [],
   "source": []
  }
 ],
 "metadata": {
  "kernelspec": {
   "display_name": "Python 3",
   "language": "python",
   "name": "python3"
  },
  "language_info": {
   "codemirror_mode": {
    "name": "ipython",
    "version": 3
   },
   "file_extension": ".py",
   "mimetype": "text/x-python",
   "name": "python",
   "nbconvert_exporter": "python",
   "pygments_lexer": "ipython3",
   "version": "3.12.0"
  }
 },
 "nbformat": 4,
 "nbformat_minor": 2
}
